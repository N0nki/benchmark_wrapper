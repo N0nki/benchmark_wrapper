{
 "cells": [
  {
   "cell_type": "markdown",
   "metadata": {
    "toc": "true"
   },
   "source": [
    "# Table of Contents\n",
    " <p><div class=\"lev1 toc-item\"><a href=\"#Graphillionによるおねえさんの問題の解の導出\" data-toc-modified-id=\"Graphillionによるおねえさんの問題の解の導出-1\"><span class=\"toc-item-num\">1&nbsp;&nbsp;</span>Graphillionによるおねえさんの問題の解の導出</a></div><div class=\"lev2 toc-item\"><a href=\"#おねえさんの問題とは\" data-toc-modified-id=\"おねえさんの問題とは-11\"><span class=\"toc-item-num\">1.1&nbsp;&nbsp;</span>おねえさんの問題とは</a></div><div class=\"lev1 toc-item\"><a href=\"#評価\" data-toc-modified-id=\"評価-2\"><span class=\"toc-item-num\">2&nbsp;&nbsp;</span>評価</a></div><div class=\"lev2 toc-item\"><a href=\"#方向性\" data-toc-modified-id=\"方向性-21\"><span class=\"toc-item-num\">2.1&nbsp;&nbsp;</span>方向性</a></div><div class=\"lev2 toc-item\"><a href=\"#実行環境\" data-toc-modified-id=\"実行環境-22\"><span class=\"toc-item-num\">2.2&nbsp;&nbsp;</span>実行環境</a></div><div class=\"lev2 toc-item\"><a href=\"#方法\" data-toc-modified-id=\"方法-23\"><span class=\"toc-item-num\">2.3&nbsp;&nbsp;</span>方法</a></div><div class=\"lev1 toc-item\"><a href=\"#設定\" data-toc-modified-id=\"設定-3\"><span class=\"toc-item-num\">3&nbsp;&nbsp;</span>設定</a></div><div class=\"lev2 toc-item\"><a href=\"#関数定義\" data-toc-modified-id=\"関数定義-31\"><span class=\"toc-item-num\">3.1&nbsp;&nbsp;</span>関数定義</a></div><div class=\"lev2 toc-item\"><a href=\"#変数定義\" data-toc-modified-id=\"変数定義-32\"><span class=\"toc-item-num\">3.2&nbsp;&nbsp;</span>変数定義</a></div><div class=\"lev1 toc-item\"><a href=\"#計測\" data-toc-modified-id=\"計測-4\"><span class=\"toc-item-num\">4&nbsp;&nbsp;</span>計測</a></div><div class=\"lev2 toc-item\"><a href=\"#格子グラフ\" data-toc-modified-id=\"格子グラフ-41\"><span class=\"toc-item-num\">4.1&nbsp;&nbsp;</span>格子グラフ</a></div><div class=\"lev2 toc-item\"><a href=\"#有向格子グラフ\" data-toc-modified-id=\"有向格子グラフ-42\"><span class=\"toc-item-num\">4.2&nbsp;&nbsp;</span>有向格子グラフ</a></div><div class=\"lev2 toc-item\"><a href=\"#双方向リンク格子グラフ\" data-toc-modified-id=\"双方向リンク格子グラフ-43\"><span class=\"toc-item-num\">4.3&nbsp;&nbsp;</span>双方向リンク格子グラフ</a></div><div class=\"lev1 toc-item\"><a href=\"#実行結果\" data-toc-modified-id=\"実行結果-5\"><span class=\"toc-item-num\">5&nbsp;&nbsp;</span>実行結果</a></div><div class=\"lev2 toc-item\"><a href=\"#Lab-iMac(Late-2009)\" data-toc-modified-id=\"Lab-iMac(Late-2009)-51\"><span class=\"toc-item-num\">5.1&nbsp;&nbsp;</span>Lab iMac(Late 2009)</a></div>"
   ]
  },
  {
   "cell_type": "markdown",
   "metadata": {},
   "source": [
    "# Graphillionによるおねえさんの問題の解の導出\n",
    "\n",
    "## おねえさんの問題とは\n",
    "\n",
    "格子グラフの対角２頂点をつなぐ経路はいくつ存在するか。ただし同じところを２度通ってはいけない。  \n",
    "n×nの格子グラフの解の個数は以下の通り。\n",
    "\n",
    "|n|経路の数|\n",
    "|:---:|----:|\n",
    "|1|2|\n",
    "|2|12|\n",
    "|3|184|\n",
    "|4|8512|\n",
    "|5|1262816|\n",
    "|6|575780564|\n",
    "|7|789360053252|\n",
    "|8|3266598486981642|\n",
    "|9|41044208702632496804|\n",
    "|10|1568758030464750013214100|\n",
    "|11|182413291514248049241470885236|"
   ]
  },
  {
   "cell_type": "markdown",
   "metadata": {},
   "source": [
    "# 評価\n",
    "おねえさんの問題を実行し計算限界となるグラフを求める。\n",
    "\n",
    "## 方向性\n",
    "有向グラフに対するラッパーと双方向リンクに対するラッパーを適応したパス列挙も行う。  \n",
    "有向グラフに対するラッパーを適応する場合は、いずれのノードも自身の左側と上側に存在するノードとのリンクは流入リンク、右側と下側に存在するノードとのリンクは流出リンクとする。\n",
    "\n",
    "## 実行環境\n",
    "個人所有のPC2台、研究室のPC2台の計4台で行う。詳細なスペックは各PCのセクションを参照。\n",
    "\n",
    "\n",
    "## 方法\n",
    "\n",
    "graphillion.tutorialを参考にGrid Graph作成関数を作成。  \n",
    "その関数で作成したグラフをGrapihillionで読み込み、対角2頂点（スタートノード1、ターゲットノード$(n+1)^2$）を引数にしてgraphillion.GraphSet.pathsを実行。  \n",
    "実行時間計測はnbextensionsのExecuteTimeを利用する。"
   ]
  },
  {
   "cell_type": "markdown",
   "metadata": {},
   "source": [
    "# 設定\n",
    "\n",
    "## 関数定義"
   ]
  },
  {
   "cell_type": "code",
   "execution_count": 66,
   "metadata": {
    "ExecuteTime": {
     "end_time": "2017-09-27T18:16:25.689943Z",
     "start_time": "2017-09-27T18:16:25.562671Z"
    },
    "collapsed": false
   },
   "outputs": [],
   "source": [
    "import pickle\n",
    "from os import path, mkdir, makedirs\n",
    "from functools import reduce\n",
    "\n",
    "import networkx as nx\n",
    "import matplotlib as mpl\n",
    "import matplotlib.pyplot as plt\n",
    "from graphillion import GraphSet\n",
    "from pandas import DataFrame\n",
    "import pandas as pd\n",
    "\n",
    "import proposal_packages.directed_graph as dg\n",
    "import proposal_packages.directed_link as dl\n",
    "\n",
    "%matplotlib inline\n",
    "\n",
    "mpl.rcParams['font.family'] = 'Source Han Code JP'\n",
    "\n",
    "def grid_graph(m, n):\n",
    "    \"\"\"\n",
    "    m*nの格子グラフを返す\n",
    "    方向性をつけない場合と有向辺ラッパーの適応した場合の計測に使用\n",
    "    \"\"\"\n",
    "    m, n = m + 1, n + 1\n",
    "    edges = []\n",
    "    for v in range(1, m * n + 1):\n",
    "        if v % n != 0:\n",
    "            edges.append((v, v + 1))\n",
    "        if v <= (m - 1) * n:\n",
    "            edges.append((v, v + n))\n",
    "    return nx.DiGraph(data=edges)\n",
    "\n",
    "def directed_grid_graph(m, n):\n",
    "    \"\"\"\n",
    "    双方向リンクをもつm*nの格子グラフを返す\n",
    "    双方向リンクラッパーの計測に使用\n",
    "    \"\"\"\n",
    "    m, n = m + 1, n + 1\n",
    "    edges = []\n",
    "    for v in range(1, m * n + 1):\n",
    "        if v % n != 0:\n",
    "            edges.append((v, v + 1, 0))\n",
    "            edges.append((v + 1, v, 0))\n",
    "        if v <= (m - 1) * n:\n",
    "            edges.append((v, v + n, 0))\n",
    "            edges.append((v + n, v, 0))\n",
    "    G = nx.DiGraph()\n",
    "    G.add_weighted_edges_from(edges)\n",
    "    return G\n",
    "\n",
    "def draw_grid_graph(G):\n",
    "    \"\"\"\n",
    "    格子グラフオブジェクトを描画\n",
    "    \"\"\"\n",
    "    universe = GraphSet.universe()\n",
    "    if not isinstance(universe, nx.Graph):\n",
    "        universe = nx.Graph(data=list(universe))\n",
    "    if not isinstance(G, nx.Graph):\n",
    "        G = nx.Graph(data=G)\n",
    "    n = sorted(universe[1].keys())[1] - 1\n",
    "    m = universe.number_of_nodes() // n\n",
    "    G.add_nodes_from(universe.nodes())\n",
    "    pos = {}\n",
    "    for v in range(1, m * n + 1):\n",
    "        pos[v] = ((v - 1) % n, (m * n - v) // n)\n",
    "    nx.draw_networkx_nodes(G, pos)\n",
    "    nx.draw_networkx_labels(G, pos)\n",
    "    nx.draw_networkx_edges(G, pos)\n",
    "    plt.xticks([])\n",
    "    plt.yticks([])\n",
    "    plt.show()\n",
    "    \n",
    "def dump_universe(m, n, kind=\"Universe\"):\n",
    "    \"\"\"\n",
    "    ユニバースをシリアライズしてフォルダ./dump/grid_graph/Universeに保存する\n",
    "    \"\"\"\n",
    "    table = {\"Universe\": \"undirected_Universe_{}_{}\".format(m, n),\n",
    "                   \"bidi2\": \"bidirectional_Universe_two_virtual_nodes_{}_{}\".format(m, n),\n",
    "                   \"bidi1\": \"bidirectional_Universe_one_virtual_node_{}_{}\".format(m, n)}\n",
    "    p = path.join(\"dump\", \"grid_graph\", \"Universe\")\n",
    "    if not path.exists(p):\n",
    "        makedirs(p)\n",
    "    with open(path.join(p, table[kind]), \"wb\") as fp:\n",
    "        pickle.dump(GraphSet.universe(), fp)\n",
    "    \n",
    "def dump_paths(m, n, paths, kind):\n",
    "    \"\"\"\n",
    "    パス集合をシリアライズしてフォルダ./dump/grid_graph/pathsに保存する\n",
    "    \"\"\"\n",
    "    table = {\"undi\": \"undirected_{}_{}\".format(m, n),\n",
    "                   \"dig\": \"directed_{}_{}\".format(m, n),\n",
    "                   \"bidi2\": \"bidirectional_link_two_virtual_nodes_{}_{}\".format(m, n),\n",
    "                   \"bidi1\": \"bidirectional_link_one_virtual_node_{}_{}\".format(m, n)}\n",
    "    p = path.join(\"dump\", \"grid_graph\", \"paths\")\n",
    "    if not path.exists(p):\n",
    "        makedirs(p)\n",
    "    with open(path.join(p, table[kind]), \"wb\") as fp:\n",
    "        paths.dump(fp)"
   ]
  },
  {
   "cell_type": "markdown",
   "metadata": {},
   "source": [
    "## 変数定義"
   ]
  },
  {
   "cell_type": "code",
   "execution_count": 67,
   "metadata": {
    "ExecuteTime": {
     "end_time": "2017-09-27T18:16:25.696012Z",
     "start_time": "2017-09-27T18:16:25.692179Z"
    },
    "collapsed": true
   },
   "outputs": [],
   "source": [
    "m, n = 9, 9 # 格子グラフの規模\n",
    "s, t = 1, (n+1)*(n+1) # スタート、ターゲット"
   ]
  },
  {
   "cell_type": "markdown",
   "metadata": {},
   "source": [
    "# 計測\n",
    "\n",
    "## 格子グラフ\n",
    "\n",
    "ユニバース定義と格子グラフ生成  \n",
    "このユニバースは有向グラフでも使用する"
   ]
  },
  {
   "cell_type": "code",
   "execution_count": 68,
   "metadata": {
    "ExecuteTime": {
     "end_time": "2017-09-27T18:16:26.474892Z",
     "start_time": "2017-09-27T18:16:25.698274Z"
    },
    "collapsed": false
   },
   "outputs": [
    {
     "data": {
      "image/png": "[encoded data removed]",
      "text/plain": [
       "<matplotlib.figure.Figure at 0x11c73e470>"
      ]
     },
     "metadata": {},
     "output_type": "display_data"
    }
   ],
   "source": [
    "G = grid_graph(m, n)\n",
    "GraphSet.set_universe(G.edges(), traversal=\"as-is\")\n",
    "plt.figure(figsize=(m, n))\n",
    "plt.title(\"{}×{}の格子グラフ\\n頂点の数: {} 辺の数: {}\".format(m, n, len(G.nodes()), len(G.edges())))\n",
    "draw_grid_graph(G)"
   ]
  },
  {
   "cell_type": "markdown",
   "metadata": {},
   "source": [
    "ユニバースをシリアライズ"
   ]
  },
  {
   "cell_type": "code",
   "execution_count": 69,
   "metadata": {
    "ExecuteTime": {
     "end_time": "2017-09-27T18:16:26.481031Z",
     "start_time": "2017-09-27T18:16:26.476990Z"
    },
    "collapsed": true
   },
   "outputs": [],
   "source": [
    "dump_universe(m, n)"
   ]
  },
  {
   "cell_type": "markdown",
   "metadata": {},
   "source": [
    "パス列挙"
   ]
  },
  {
   "cell_type": "code",
   "execution_count": 70,
   "metadata": {
    "ExecuteTime": {
     "end_time": "2017-09-27T18:16:26.990297Z",
     "start_time": "2017-09-27T18:16:26.483262Z"
    },
    "collapsed": true
   },
   "outputs": [],
   "source": [
    "paths = GraphSet.paths(s, t)"
   ]
  },
  {
   "cell_type": "markdown",
   "metadata": {},
   "source": [
    "パスをシリアライズ"
   ]
  },
  {
   "cell_type": "code",
   "execution_count": 71,
   "metadata": {
    "ExecuteTime": {
     "end_time": "2017-09-27T18:16:27.820761Z",
     "start_time": "2017-09-27T18:16:26.992381Z"
    },
    "collapsed": true
   },
   "outputs": [],
   "source": [
    "dump_paths(m, n, paths, \"undi\")"
   ]
  },
  {
   "cell_type": "markdown",
   "metadata": {},
   "source": [
    "## 有向格子グラフ\n",
    "\n",
    "ユニバースと`grid_graph(m, n)`で生成したグラフ`G`をそのまま使用する\n",
    "\n",
    "パス列挙"
   ]
  },
  {
   "cell_type": "code",
   "execution_count": 72,
   "metadata": {
    "ExecuteTime": {
     "end_time": "2017-09-27T18:16:28.352548Z",
     "start_time": "2017-09-27T18:16:27.822940Z"
    },
    "collapsed": true
   },
   "outputs": [],
   "source": [
    "dig_paths = dg.directed_paths(G, s, t)"
   ]
  },
  {
   "cell_type": "code",
   "execution_count": 73,
   "metadata": {
    "ExecuteTime": {
     "end_time": "2017-09-27T18:16:28.360775Z",
     "start_time": "2017-09-27T18:16:28.354293Z"
    },
    "collapsed": false
   },
   "outputs": [
    {
     "data": {
      "text/plain": [
       "48620"
      ]
     },
     "execution_count": 73,
     "metadata": {},
     "output_type": "execute_result"
    }
   ],
   "source": [
    "len(dig_paths)"
   ]
  },
  {
   "cell_type": "code",
   "execution_count": 74,
   "metadata": {
    "ExecuteTime": {
     "end_time": "2017-09-27T18:16:28.367561Z",
     "start_time": "2017-09-27T18:16:28.363501Z"
    },
    "collapsed": true
   },
   "outputs": [],
   "source": [
    "dump_paths(m, n, dig_paths, \"dig\")"
   ]
  },
  {
   "cell_type": "markdown",
   "metadata": {},
   "source": [
    "## 双方向リンク格子グラフ\n",
    "\n",
    "仮想ノード１個追加と２個追加の場合でユニバースが異なる\n",
    "\n",
    "仮想ノード追加前の通常の格子グラフのノード数を$n$、双方向リンク数を$l$とする  \n",
    "すると双方向リンクラッパー適応後のグラフは以下に示すように規模が増大する\n",
    "\n",
    "* **仮想ノード2個追加の場合**    \n",
    "ノード数$n+2l$、双方向リンク数$4l$\n",
    "\n",
    "\n",
    "* **仮想ノード1個追加の場合**  \n",
    "ノード数$n + l$、双方向リンク数$3l$\n",
    "\n",
    "ここでは，仮想ノード１個追加のラッパーの計測のみを行う"
   ]
  },
  {
   "cell_type": "markdown",
   "metadata": {
    "ExecuteTime": {
     "end_time": "2017-09-26T17:45:23.023856Z",
     "start_time": "2017-09-26T17:45:23.004687Z"
    }
   },
   "source": [
    "グラフとedgelistを生成"
   ]
  },
  {
   "cell_type": "code",
   "execution_count": 75,
   "metadata": {
    "ExecuteTime": {
     "end_time": "2017-09-27T18:16:28.375889Z",
     "start_time": "2017-09-27T18:16:28.369645Z"
    },
    "collapsed": true
   },
   "outputs": [],
   "source": [
    "BiG = directed_grid_graph(m, n)\n",
    "edgelist = [(i, j, attr[\"weight\"]) for i,j,attr in BiG.edges(data=True)]"
   ]
  },
  {
   "cell_type": "markdown",
   "metadata": {},
   "source": [
    "ユニバース定義"
   ]
  },
  {
   "cell_type": "code",
   "execution_count": 76,
   "metadata": {
    "ExecuteTime": {
     "end_time": "2017-09-27T18:16:28.394652Z",
     "start_time": "2017-09-27T18:16:28.377735Z"
    },
    "collapsed": false,
    "scrolled": true
   },
   "outputs": [
    {
     "name": "stdout",
     "output_type": "stream",
     "text": [
      "仮想ノード1個追加後の双方向リンク格子グラフ\n",
      "number of nodes 280\n",
      "number of edges 540\n"
     ]
    }
   ],
   "source": [
    "dl.read_edgelist(edgelist)\n",
    "BiG_appended_one_virtual_node = dl.append_virtual_nodes()\n",
    "GraphSet.set_universe(BiG_appended_one_virtual_node, traversal=\"as-is\")\n",
    "print(\"仮想ノード1個追加後の双方向リンク格子グラフ\")\n",
    "print(\"number of nodes\", len(set(reduce(lambda x,y: x+y, [[i,j] for i,j,w in BiG_appended_one_virtual_node]))))\n",
    "print(\"number of edges\", len(BiG_appended_one_virtual_node))"
   ]
  },
  {
   "cell_type": "markdown",
   "metadata": {},
   "source": [
    "ユニバースをシリアライズ"
   ]
  },
  {
   "cell_type": "code",
   "execution_count": 77,
   "metadata": {
    "ExecuteTime": {
     "end_time": "2017-09-27T18:16:28.402392Z",
     "start_time": "2017-09-27T18:16:28.397002Z"
    },
    "collapsed": true
   },
   "outputs": [],
   "source": [
    "dump_universe(m, n, kind=\"bidi1\")"
   ]
  },
  {
   "cell_type": "markdown",
   "metadata": {
    "ExecuteTime": {
     "end_time": "2017-09-26T18:12:09.383329Z",
     "start_time": "2017-09-26T18:12:09.372279Z"
    }
   },
   "source": [
    "パス列挙"
   ]
  },
  {
   "cell_type": "code",
   "execution_count": null,
   "metadata": {
    "ExecuteTime": {
     "start_time": "2017-09-27T09:16:56.021Z"
    },
    "collapsed": false
   },
   "outputs": [],
   "source": [
    "bidi1_paths = dl.directed_paths(s, t)"
   ]
  },
  {
   "cell_type": "markdown",
   "metadata": {},
   "source": [
    "# 実行結果\n",
    "\n",
    "部分グラフの列挙が完了していると数え上げが早くなる現象については考慮していない．  \n",
    "詳しくは引き継ぎ資料のprofilingを参照．\n",
    "\n",
    "## Lab iMac(Late 2009)\n",
    "\n",
    "**スペック**\n",
    "\n",
    "|項目            |                                  |\n",
    "|:----------------|:----------------------------------|\n",
    "|OS              |macOS v10.12.4 Sierra     |\n",
    "|プロセッサ|Intel Core i5-750 @ 2.66GHz    |\n",
    "|メモリ（RAM）   |16GB                           |\n",
    "\n",
    "**実行結果（単位：秒）**\n",
    "\n",
    "|グラフ|方向性なし|有向グラフ|双方向リンク（仮想ノード1個）|\n",
    "|:---:|:----:|:---:|:---:|:---:|\n",
    "|$1 \\times 1$|0.006|0.004|0.005|\n",
    "|$2 \\times 2$|0.007|0.007|0.006|\n",
    "|$3 \\times 3$|0.004|0.0014|0.076|\n",
    "|$4 \\times 4$|0.016|0.007|0.126|\n",
    "|$5 \\times 5$|0.079|0.031|0.561|\n",
    "|$6 \\times 6$|0.039|0.106|1.80|\n",
    "|$7 \\times 7$|0.305|0.183|14.6|\n",
    "|$8 \\times 8$|0.233|0.247|18.6|\n",
    "|$9 \\times 9$|0.507|0.530|1|\n",
    "|$10 \\times 10$|0.233|0.247|18.6|"
   ]
  }
 ],
 "metadata": {
  "kernelspec": {
   "display_name": "Python 3",
   "language": "python",
   "name": "python3"
  },
  "language_info": {
   "codemirror_mode": {
    "name": "ipython",
    "version": 3
   },
   "file_extension": ".py",
   "mimetype": "text/x-python",
   "name": "python",
   "nbconvert_exporter": "python",
   "pygments_lexer": "ipython3",
   "version": "3.6.0"
  },
  "toc": {
   "colors": {
    "hover_highlight": "#DAA520",
    "running_highlight": "#FF0000",
    "selected_highlight": "#FFD700"
   },
   "moveMenuLeft": true,
   "nav_menu": {
    "height": "246px",
    "width": "252px"
   },
   "navigate_menu": true,
   "number_sections": true,
   "sideBar": true,
   "threshold": 4,
   "toc_cell": true,
   "toc_section_display": "block",
   "toc_window_display": true,
   "widenNotebook": false
  }
 },
 "nbformat": 4,
 "nbformat_minor": 2
}
